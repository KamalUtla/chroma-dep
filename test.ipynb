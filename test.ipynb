{
 "cells": [
  {
   "cell_type": "code",
   "execution_count": 1,
   "metadata": {},
   "outputs": [],
   "source": [
    "import io\n",
    "from google.cloud import storage\n",
    "\n",
    "def load_file_from_gcs(bucket_name, file_path):\n",
    "    # Initialize GCS client\n",
    "    client = storage.Client()\n",
    "    bucket = client.bucket(bucket_name)\n",
    "\n",
    "    # Get the blob\n",
    "    blob = bucket.blob(file_path)\n",
    "\n",
    "    if not blob.exists():\n",
    "        raise FileNotFoundError(f\"File not found: gs://{bucket_name}/{file_path}\")\n",
    "\n",
    "    # print(f\"Loading file: {blob.name}\")\n",
    "\n",
    "    # Download the file as bytes into memory\n",
    "    data_bytes = blob.download_as_bytes()\n",
    "    file_obj = io.BytesIO(data_bytes)\n",
    "\n",
    "    return file_obj, blob.name"
   ]
  },
  {
   "cell_type": "code",
   "execution_count": 2,
   "metadata": {},
   "outputs": [],
   "source": [
    "from google.cloud import storage\n",
    "\n",
    "def list_blobs(bucket_name, suffix=None):\n",
    "    \"\"\"Lists all the blobs in the bucket with optional suffix filtering.\n",
    "    \n",
    "    Args:\n",
    "        bucket_name (str): Name of the GCS bucket\n",
    "        suffix (str or list): File suffix(es) to filter by (e.g. '.jsonl', '.npy')\n",
    "        \n",
    "    Returns:\n",
    "        list: List of blob objects matching the suffix criteria\n",
    "    \"\"\"\n",
    "    storage_client = storage.Client()\n",
    "    bucket = storage_client.bucket(bucket_name)\n",
    "\n",
    "    blobs = bucket.list_blobs()\n",
    "    \n",
    "    if suffix:\n",
    "        if isinstance(suffix, str):\n",
    "            suffix = [suffix]\n",
    "        filtered_blobs = [blob.name for blob in blobs if any(blob.name.endswith(s) for s in suffix)]\n",
    "        return filtered_blobs\n",
    "    \n",
    "    return list(blobs)"
   ]
  },
  {
   "cell_type": "code",
   "execution_count": 3,
   "metadata": {},
   "outputs": [],
   "source": [
    "bucket_name = \"proposition-vectors\"\n",
    "props = list_blobs(bucket_name,\".npy\")"
   ]
  },
  {
   "cell_type": "code",
   "execution_count": 4,
   "metadata": {},
   "outputs": [
    {
     "data": {
      "text/plain": [
       "['enwiki-00859626-0002-0001-0006',\n",
       " 'enwiki-01587902-0000-0000-0002',\n",
       " 'enwiki-02315769-0000-0000-0001',\n",
       " 'enwiki-03013027-0007-0000-0006',\n",
       " 'enwiki-03823541-0002-0000-0002',\n",
       " 'enwiki-04586442-0027-0000-0002',\n",
       " 'enwiki-05324078-0001-0000-0000']"
      ]
     },
     "execution_count": 4,
     "metadata": {},
     "output_type": "execute_result"
    }
   ],
   "source": [
    "start_ids = []\n",
    "for i in range(1,8):\n",
    "    id = props[160*i].split(\"_\")[1].split(\"-\")\n",
    "    start_ids.append(\"\".join([elem + \"-\" for elem in id[:5]])[:-1])\n",
    "\n",
    "start_ids"
   ]
  },
  {
   "cell_type": "code",
   "execution_count": 5,
   "metadata": {},
   "outputs": [
    {
     "name": "stderr",
     "output_type": "stream",
     "text": [
      " 14%|█▍        | 142/1000 [19:47<2:23:04, 10.01s/it]"
     ]
    },
    {
     "name": "stdout",
     "output_type": "stream",
     "text": [
      "Found enwiki-00859626-0002-0001-0006 in 142 at line 7270\n"
     ]
    },
    {
     "name": "stderr",
     "output_type": "stream",
     "text": [
      " 26%|██▌       | 262/1000 [37:53<1:58:28,  9.63s/it]"
     ]
    },
    {
     "name": "stdout",
     "output_type": "stream",
     "text": [
      "Found enwiki-01587902-0000-0000-0002 in 262 at line 84115\n"
     ]
    },
    {
     "name": "stderr",
     "output_type": "stream",
     "text": [
      " 38%|███▊      | 382/1000 [56:19<1:21:02,  7.87s/it]"
     ]
    },
    {
     "name": "stdout",
     "output_type": "stream",
     "text": [
      "Found enwiki-02315769-0000-0000-0001 in 382 at line 93226\n"
     ]
    },
    {
     "name": "stderr",
     "output_type": "stream",
     "text": [
      " 50%|████▉     | 497/1000 [1:14:47<1:10:37,  8.42s/it]"
     ]
    },
    {
     "name": "stdout",
     "output_type": "stream",
     "text": [
      "Found enwiki-03013027-0007-0000-0006 in 497 at line 203112\n"
     ]
    },
    {
     "name": "stderr",
     "output_type": "stream",
     "text": [
      " 63%|██████▎   | 631/1000 [1:34:06<53:05,  8.63s/it]  "
     ]
    },
    {
     "name": "stdout",
     "output_type": "stream",
     "text": [
      "Found enwiki-03823541-0002-0000-0002 in 631 at line 168423\n"
     ]
    },
    {
     "name": "stderr",
     "output_type": "stream",
     "text": [
      " 76%|███████▌  | 757/1000 [1:52:44<39:11,  9.68s/it]"
     ]
    },
    {
     "name": "stdout",
     "output_type": "stream",
     "text": [
      "Found enwiki-04586442-0027-0000-0002 in 757 at line 247550\n"
     ]
    },
    {
     "name": "stderr",
     "output_type": "stream",
     "text": [
      " 88%|████████▊ | 879/1000 [2:10:49<17:39,  8.76s/it]"
     ]
    },
    {
     "name": "stdout",
     "output_type": "stream",
     "text": [
      "Found enwiki-05324078-0001-0000-0000 in 879 at line 193589\n"
     ]
    },
    {
     "name": "stderr",
     "output_type": "stream",
     "text": [
      "100%|█████████▉| 999/1000 [2:29:33<00:08,  8.98s/it]\n"
     ]
    },
    {
     "ename": "FileNotFoundError",
     "evalue": "File not found: gs://proposition-vectors/datasets/datasets--chentong00--factoid-wiki/snapshots/60bce4923950eab87192e276c9c5e5136234a760/data/docs-1000_of_1000.jsonl",
     "output_type": "error",
     "traceback": [
      "\u001b[0;31m---------------------------------------------------------------------------\u001b[0m",
      "\u001b[0;31mFileNotFoundError\u001b[0m                         Traceback (most recent call last)",
      "Cell \u001b[0;32mIn[5], line 17\u001b[0m\n\u001b[1;32m     14\u001b[0m id_map \u001b[38;5;241m=\u001b[39m {}\n\u001b[1;32m     15\u001b[0m \u001b[38;5;28;01mfor\u001b[39;00m file_no \u001b[38;5;129;01min\u001b[39;00m tqdm(\u001b[38;5;28mrange\u001b[39m(\u001b[38;5;241m1\u001b[39m,\u001b[38;5;241m1001\u001b[39m)):\n\u001b[0;32m---> 17\u001b[0m     data_list \u001b[38;5;241m=\u001b[39m \u001b[43mload_jsonl\u001b[49m\u001b[43m(\u001b[49m\u001b[43mbucket_name\u001b[49m\u001b[43m,\u001b[49m\u001b[43mfile_no\u001b[49m\u001b[43m)\u001b[49m\n\u001b[1;32m     19\u001b[0m     \u001b[38;5;28;01mfor\u001b[39;00m line_no,data \u001b[38;5;129;01min\u001b[39;00m \u001b[38;5;28menumerate\u001b[39m(data_list):\n\u001b[1;32m     20\u001b[0m         \u001b[38;5;28;01mif\u001b[39;00m data[\u001b[38;5;124m\"\u001b[39m\u001b[38;5;124mid\u001b[39m\u001b[38;5;124m\"\u001b[39m] \u001b[38;5;129;01min\u001b[39;00m start_ids:\n",
      "Cell \u001b[0;32mIn[5], line 6\u001b[0m, in \u001b[0;36mload_jsonl\u001b[0;34m(bucket_name, file_no)\u001b[0m\n\u001b[1;32m      3\u001b[0m \u001b[38;5;28;01mdef\u001b[39;00m\u001b[38;5;250m \u001b[39m\u001b[38;5;21mload_jsonl\u001b[39m(bucket_name:\u001b[38;5;28mstr\u001b[39m,file_no:\u001b[38;5;28mint\u001b[39m)\u001b[38;5;241m-\u001b[39m\u001b[38;5;241m>\u001b[39m\u001b[38;5;28mlist\u001b[39m[\u001b[38;5;28mdict\u001b[39m]:\n\u001b[1;32m      4\u001b[0m     file_name \u001b[38;5;241m=\u001b[39m \u001b[38;5;124mf\u001b[39m\u001b[38;5;124m'\u001b[39m\u001b[38;5;124mdatasets/datasets--chentong00--factoid-wiki/snapshots/60bce4923950eab87192e276c9c5e5136234a760/data/docs-\u001b[39m\u001b[38;5;132;01m{\u001b[39;00mfile_no\u001b[38;5;132;01m:\u001b[39;00m\u001b[38;5;124m04d\u001b[39m\u001b[38;5;132;01m}\u001b[39;00m\u001b[38;5;124m_of_1000.jsonl\u001b[39m\u001b[38;5;124m'\u001b[39m\n\u001b[0;32m----> 6\u001b[0m     file_obj, file_name \u001b[38;5;241m=\u001b[39m \u001b[43mload_file_from_gcs\u001b[49m\u001b[43m(\u001b[49m\u001b[43mbucket_name\u001b[49m\u001b[43m,\u001b[49m\u001b[43mfile_path\u001b[49m\u001b[43m \u001b[49m\u001b[38;5;241;43m=\u001b[39;49m\u001b[43m \u001b[49m\u001b[43mfile_name\u001b[49m\u001b[43m)\u001b[49m\n\u001b[1;32m      8\u001b[0m     text \u001b[38;5;241m=\u001b[39m file_obj\u001b[38;5;241m.\u001b[39mgetvalue()\u001b[38;5;241m.\u001b[39mdecode(\u001b[38;5;124m\"\u001b[39m\u001b[38;5;124mutf-8\u001b[39m\u001b[38;5;124m\"\u001b[39m)\n\u001b[1;32m     10\u001b[0m     data_list \u001b[38;5;241m=\u001b[39m [json\u001b[38;5;241m.\u001b[39mloads(line) \u001b[38;5;28;01mfor\u001b[39;00m line \u001b[38;5;129;01min\u001b[39;00m text\u001b[38;5;241m.\u001b[39msplitlines()]\n",
      "Cell \u001b[0;32mIn[1], line 13\u001b[0m, in \u001b[0;36mload_file_from_gcs\u001b[0;34m(bucket_name, file_path)\u001b[0m\n\u001b[1;32m     10\u001b[0m blob \u001b[38;5;241m=\u001b[39m bucket\u001b[38;5;241m.\u001b[39mblob(file_path)\n\u001b[1;32m     12\u001b[0m \u001b[38;5;28;01mif\u001b[39;00m \u001b[38;5;129;01mnot\u001b[39;00m blob\u001b[38;5;241m.\u001b[39mexists():\n\u001b[0;32m---> 13\u001b[0m     \u001b[38;5;28;01mraise\u001b[39;00m \u001b[38;5;167;01mFileNotFoundError\u001b[39;00m(\u001b[38;5;124mf\u001b[39m\u001b[38;5;124m\"\u001b[39m\u001b[38;5;124mFile not found: gs://\u001b[39m\u001b[38;5;132;01m{\u001b[39;00mbucket_name\u001b[38;5;132;01m}\u001b[39;00m\u001b[38;5;124m/\u001b[39m\u001b[38;5;132;01m{\u001b[39;00mfile_path\u001b[38;5;132;01m}\u001b[39;00m\u001b[38;5;124m\"\u001b[39m)\n\u001b[1;32m     15\u001b[0m \u001b[38;5;66;03m# print(f\"Loading file: {blob.name}\")\u001b[39;00m\n\u001b[1;32m     16\u001b[0m \n\u001b[1;32m     17\u001b[0m \u001b[38;5;66;03m# Download the file as bytes into memory\u001b[39;00m\n\u001b[1;32m     18\u001b[0m data_bytes \u001b[38;5;241m=\u001b[39m blob\u001b[38;5;241m.\u001b[39mdownload_as_bytes()\n",
      "\u001b[0;31mFileNotFoundError\u001b[0m: File not found: gs://proposition-vectors/datasets/datasets--chentong00--factoid-wiki/snapshots/60bce4923950eab87192e276c9c5e5136234a760/data/docs-1000_of_1000.jsonl"
     ]
    }
   ],
   "source": [
    "import json\n",
    "from tqdm import tqdm as tqdm\n",
    "def load_jsonl(bucket_name:str,file_no:int)->list[dict]:\n",
    "    file_name = f'datasets/datasets--chentong00--factoid-wiki/snapshots/60bce4923950eab87192e276c9c5e5136234a760/data/docs-{file_no:04d}_of_1000.jsonl'\n",
    "\n",
    "    file_obj, file_name = load_file_from_gcs(bucket_name,file_path = file_name)\n",
    "\n",
    "    text = file_obj.getvalue().decode(\"utf-8\")\n",
    "\n",
    "    data_list = [json.loads(line) for line in text.splitlines()]\n",
    "\n",
    "    return data_list \n",
    "\n",
    "id_map = {}\n",
    "for file_no in tqdm(range(1,1001)):\n",
    "\n",
    "    data_list = load_jsonl(bucket_name,file_no)\n",
    "\n",
    "    for line_no,data in enumerate(data_list):\n",
    "        if data[\"id\"] in start_ids:\n",
    "            id_map[data[\"id\"]] = (file_no,line_no)\n",
    "            print(f\"Found {data['id']} in {file_no} at line {line_no}\")"
   ]
  },
  {
   "cell_type": "code",
   "execution_count": 6,
   "metadata": {},
   "outputs": [
    {
     "data": {
      "text/plain": [
       "{'enwiki-00859626-0002-0001-0006': (142, 7270),\n",
       " 'enwiki-01587902-0000-0000-0002': (262, 84115),\n",
       " 'enwiki-02315769-0000-0000-0001': (382, 93226),\n",
       " 'enwiki-03013027-0007-0000-0006': (497, 203112),\n",
       " 'enwiki-03823541-0002-0000-0002': (631, 168423),\n",
       " 'enwiki-04586442-0027-0000-0002': (757, 247550),\n",
       " 'enwiki-05324078-0001-0000-0000': (879, 193589)}"
      ]
     },
     "execution_count": 6,
     "metadata": {},
     "output_type": "execute_result"
    }
   ],
   "source": [
    "id_map"
   ]
  },
  {
   "cell_type": "code",
   "execution_count": 11,
   "metadata": {},
   "outputs": [],
   "source": [
    "ids = [\n",
    "    [0,0],\n",
    "    [142, 7270],\n",
    "    [262, 84115],\n",
    "    [382, 93226],\n",
    "    [497, 203112],\n",
    "    [631, 168423],\n",
    "    [757, 247550],\n",
    "    [879, 193589],\n",
    "    [999,-1]\n",
    "]"
   ]
  },
  {
   "cell_type": "code",
   "execution_count": 7,
   "metadata": {},
   "outputs": [],
   "source": [
    "starts = [('enwiki-00000000-0000-0000-0000', 'enwiki-00005131-0001-0000-0000'),\n",
    " ('enwiki-00859626-0002-0001-0006', 'enwiki-00864894-0016-0000-0002'),\n",
    " ('enwiki-01587902-0000-0000-0002', 'enwiki-01592440-0010-0000-0000'),\n",
    " ('enwiki-02315769-0000-0000-0001', 'enwiki-02321829-0003-0000-0002'),\n",
    " ('enwiki-03013027-0007-0000-0006', 'enwiki-03017772-0006-0000-0004'),\n",
    " ('enwiki-03823541-0002-0000-0002', 'enwiki-03827874-0003-0000-0010'),\n",
    " ('enwiki-04586442-0027-0000-0002', 'enwiki-04590551-0015-0000-0004'),\n",
    " ('enwiki-05324078-0001-0000-0000', 'enwiki-05329181-0044-0002-0003')]"
   ]
  },
  {
   "cell_type": "code",
   "execution_count": 8,
   "metadata": {},
   "outputs": [],
   "source": [
    "ends = [ ('enwiki-00855357-0012-0000-0004', 'enwiki-00859626-0002-0001-0005'),\n",
    " ('enwiki-01583453-0039-0000-0004', 'enwiki-01587902-0000-0000-0001'),\n",
    " ('enwiki-02308005-0007-0001-0004', 'enwiki-02315769-0000-0000-0000'),\n",
    " ('enwiki-03008104-0029-0001-0002', 'enwiki-03013027-0007-0000-0005'),\n",
    " ('enwiki-03818516-0004-0000-0001', 'enwiki-03823541-0002-0000-0001'),\n",
    " ('enwiki-04582327-0016-0000-0002', 'enwiki-04586442-0027-0000-0001'),\n",
    " ('enwiki-05319613-0001-0000-0007', 'enwiki-05324078-0000-0000-0003'),\n",
    " ('enwiki-06048186-0015-0000-0006', 'enwiki-06052180-0000-0000-0002')]"
   ]
  },
  {
   "cell_type": "code",
   "execution_count": 12,
   "metadata": {},
   "outputs": [],
   "source": [
    "info = {}\n",
    "for i in range(8):\n",
    "    ids_2 = [ids[i+1][0],ids[i+1][1]-1]\n",
    "    raw_dict = {\n",
    "        \"embedding_files\":[starts[i],ends[i]],\n",
    "        \"text_files\":[ids[i],ids_2]\n",
    "    }\n",
    "    info[str(i+1)] = raw_dict"
   ]
  },
  {
   "cell_type": "code",
   "execution_count": 13,
   "metadata": {},
   "outputs": [
    {
     "data": {
      "text/plain": [
       "{'1': {'embedding_files': [('enwiki-00000000-0000-0000-0000',\n",
       "    'enwiki-00005131-0001-0000-0000'),\n",
       "   ('enwiki-00855357-0012-0000-0004', 'enwiki-00859626-0002-0001-0005')],\n",
       "  'text_files': [[0, 0], [142, 7269]]},\n",
       " '2': {'embedding_files': [('enwiki-00859626-0002-0001-0006',\n",
       "    'enwiki-00864894-0016-0000-0002'),\n",
       "   ('enwiki-01583453-0039-0000-0004', 'enwiki-01587902-0000-0000-0001')],\n",
       "  'text_files': [[142, 7270], [262, 84114]]},\n",
       " '3': {'embedding_files': [('enwiki-01587902-0000-0000-0002',\n",
       "    'enwiki-01592440-0010-0000-0000'),\n",
       "   ('enwiki-02308005-0007-0001-0004', 'enwiki-02315769-0000-0000-0000')],\n",
       "  'text_files': [[262, 84115], [382, 93225]]},\n",
       " '4': {'embedding_files': [('enwiki-02315769-0000-0000-0001',\n",
       "    'enwiki-02321829-0003-0000-0002'),\n",
       "   ('enwiki-03008104-0029-0001-0002', 'enwiki-03013027-0007-0000-0005')],\n",
       "  'text_files': [[382, 93226], [497, 203111]]},\n",
       " '5': {'embedding_files': [('enwiki-03013027-0007-0000-0006',\n",
       "    'enwiki-03017772-0006-0000-0004'),\n",
       "   ('enwiki-03818516-0004-0000-0001', 'enwiki-03823541-0002-0000-0001')],\n",
       "  'text_files': [[497, 203112], [631, 168422]]},\n",
       " '6': {'embedding_files': [('enwiki-03823541-0002-0000-0002',\n",
       "    'enwiki-03827874-0003-0000-0010'),\n",
       "   ('enwiki-04582327-0016-0000-0002', 'enwiki-04586442-0027-0000-0001')],\n",
       "  'text_files': [[631, 168423], [757, 247549]]},\n",
       " '7': {'embedding_files': [('enwiki-04586442-0027-0000-0002',\n",
       "    'enwiki-04590551-0015-0000-0004'),\n",
       "   ('enwiki-05319613-0001-0000-0007', 'enwiki-05324078-0000-0000-0003')],\n",
       "  'text_files': [[757, 247550], [879, 193588]]},\n",
       " '8': {'embedding_files': [('enwiki-05324078-0001-0000-0000',\n",
       "    'enwiki-05329181-0044-0002-0003'),\n",
       "   ('enwiki-06048186-0015-0000-0006', 'enwiki-06052180-0000-0000-0002')],\n",
       "  'text_files': [[879, 193589], [999, -2]]}}"
      ]
     },
     "execution_count": 13,
     "metadata": {},
     "output_type": "execute_result"
    }
   ],
   "source": [
    "info"
   ]
  },
  {
   "cell_type": "code",
   "execution_count": 14,
   "metadata": {},
   "outputs": [
    {
     "data": {
      "text/plain": [
       "0"
      ]
     },
     "execution_count": 14,
     "metadata": {},
     "output_type": "execute_result"
    }
   ],
   "source": [
    "k = (0,0)\n",
    "\n",
    "k[1]"
   ]
  },
  {
   "cell_type": "code",
   "execution_count": 16,
   "metadata": {},
   "outputs": [],
   "source": [
    "from upload_to_chroma import load_file_from_gcs"
   ]
  },
  {
   "cell_type": "code",
   "execution_count": null,
   "metadata": {},
   "outputs": [
    {
     "ename": "NameError",
     "evalue": "name 'load_file_from_gcs' is not defined",
     "output_type": "error",
     "traceback": [
      "\u001b[0;31m---------------------------------------------------------------------------\u001b[0m",
      "\u001b[0;31mNameError\u001b[0m                                 Traceback (most recent call last)",
      "Cell \u001b[0;32mIn[1], line 2\u001b[0m\n\u001b[1;32m      1\u001b[0m file_no \u001b[38;5;241m=\u001b[39m \u001b[38;5;241m999\u001b[39m\n\u001b[0;32m----> 2\u001b[0m k \u001b[38;5;241m=\u001b[39m \u001b[43mload_file_from_gcs\u001b[49m(\u001b[38;5;124m\"\u001b[39m\u001b[38;5;124mproposition-vectors\u001b[39m\u001b[38;5;124m\"\u001b[39m,\u001b[38;5;124m\"\u001b[39m\u001b[38;5;124membeddings/embeddings_enwiki-06048186-0015-0000-0006-enwiki-06052180-0000-0000-0002.npy\u001b[39m\u001b[38;5;124m\"\u001b[39m)\n",
      "\u001b[0;31mNameError\u001b[0m: name 'load_file_from_gcs' is not defined"
     ]
    }
   ],
   "source": [
    "file_no = 999\n",
    "\n",
    "file =f'datasets/datasets--chentong00--factoid-wiki/snapshots/60bce4923950eab87192e276c9c5e5136234a760/data/docs-{file_no:04d}_of_1000.jsonl'\n",
    "k = load_file_from_gcs(\"proposition-vectors\",file)"
   ]
  },
  {
   "cell_type": "code",
   "execution_count": null,
   "metadata": {},
   "outputs": [],
   "source": []
  }
 ],
 "metadata": {
  "kernelspec": {
   "display_name": "chrom",
   "language": "python",
   "name": "python3"
  },
  "language_info": {
   "codemirror_mode": {
    "name": "ipython",
    "version": 3
   },
   "file_extension": ".py",
   "mimetype": "text/x-python",
   "name": "python",
   "nbconvert_exporter": "python",
   "pygments_lexer": "ipython3",
   "version": "3.10.12"
  }
 },
 "nbformat": 4,
 "nbformat_minor": 2
}
