{
 "cells": [
  {
   "cell_type": "code",
   "execution_count": 1,
   "metadata": {},
   "outputs": [],
   "source": [
    "from google.cloud import storage\n",
    "\n",
    "def list_blobs(bucket_name, suffix=None):\n",
    "    \"\"\"Lists all the blobs in the bucket with optional suffix filtering.\n",
    "    \n",
    "    Args:\n",
    "        bucket_name (str): Name of the GCS bucket\n",
    "        suffix (str or list): File suffix(es) to filter by (e.g. '.jsonl', '.npy')\n",
    "        \n",
    "    Returns:\n",
    "        list: List of blob objects matching the suffix criteria\n",
    "    \"\"\"\n",
    "    storage_client = storage.Client()\n",
    "    bucket = storage_client.bucket(bucket_name)\n",
    "\n",
    "    blobs = bucket.list_blobs()\n",
    "    \n",
    "    if suffix:\n",
    "        if isinstance(suffix, str):\n",
    "            suffix = [suffix]\n",
    "        filtered_blobs = [blob.name for blob in blobs if any(blob.name.endswith(s) for s in suffix)]\n",
    "        return filtered_blobs\n",
    "    \n",
    "    return list(blobs)"
   ]
  },
  {
   "cell_type": "code",
   "execution_count": 2,
   "metadata": {},
   "outputs": [],
   "source": [
    "bucket_name = \"proposition-vectors\"\n",
    "props = list_blobs(bucket_name,\".npy\")"
   ]
  },
  {
   "cell_type": "code",
   "execution_count": 5,
   "metadata": {},
   "outputs": [
    {
     "data": {
      "text/plain": [
       "[('enwiki-00000000-0000-0000-0000', 'enwiki-00005131-0001-0000-0000'),\n",
       " ('enwiki-00859626-0002-0001-0006', 'enwiki-00864894-0016-0000-0002'),\n",
       " ('enwiki-01587902-0000-0000-0002', 'enwiki-01592440-0010-0000-0000'),\n",
       " ('enwiki-02315769-0000-0000-0001', 'enwiki-02321829-0003-0000-0002'),\n",
       " ('enwiki-03013027-0007-0000-0006', 'enwiki-03017772-0006-0000-0004'),\n",
       " ('enwiki-03823541-0002-0000-0002', 'enwiki-03827874-0003-0000-0010'),\n",
       " ('enwiki-04586442-0027-0000-0002', 'enwiki-04590551-0015-0000-0004'),\n",
       " ('enwiki-05324078-0001-0000-0000', 'enwiki-05329181-0044-0002-0003')]"
      ]
     },
     "execution_count": 5,
     "metadata": {},
     "output_type": "execute_result"
    }
   ],
   "source": [
    "ids = []\n",
    "for i in range(8):\n",
    "    id = props[160*i-1].split(\"_\")[1].split(\"-\")\n",
    "    start_id = \"\".join([elem + \"-\" for elem in id[:5]])[:-1]\n",
    "    end_id = \"\".join([elem + \"-\" for elem in id[5:]])[:-5]\n",
    "    ids.append((start_id,end_id))\n",
    "\n",
    "ids"
   ]
  },
  {
   "cell_type": "code",
   "execution_count": 11,
   "metadata": {},
   "outputs": [
    {
     "data": {
      "text/plain": [
       "[('enwiki-06048186-0015-0000-0006', 'enwiki-06052180-0000-0000-0002'),\n",
       " ('enwiki-00855357-0012-0000-0004', 'enwiki-00859626-0002-0001-0005'),\n",
       " ('enwiki-01583453-0039-0000-0004', 'enwiki-01587902-0000-0000-0001'),\n",
       " ('enwiki-02308005-0007-0001-0004', 'enwiki-02315769-0000-0000-0000'),\n",
       " ('enwiki-03008104-0029-0001-0002', 'enwiki-03013027-0007-0000-0005'),\n",
       " ('enwiki-03818516-0004-0000-0001', 'enwiki-03823541-0002-0000-0001'),\n",
       " ('enwiki-04582327-0016-0000-0002', 'enwiki-04586442-0027-0000-0001'),\n",
       " ('enwiki-05319613-0001-0000-0007', 'enwiki-05324078-0000-0000-0003')]"
      ]
     },
     "execution_count": 11,
     "metadata": {},
     "output_type": "execute_result"
    }
   ],
   "source": [
    "ids = []\n",
    "for i in range(8):\n",
    "    id = props[160*i-1].split(\"_\")[1].split(\"-\")\n",
    "    start_id = \"\".join([elem + \"-\" for elem in id[:5]])[:-1]\n",
    "    end_id = \"\".join([elem + \"-\" for elem in id[5:]])[:-5]\n",
    "    ids.append((start_id,end_id))\n",
    "\n",
    "ids"
   ]
  },
  {
   "cell_type": "code",
   "execution_count": 16,
   "metadata": {},
   "outputs": [],
   "source": [
    "with open('emb_list.py', 'w') as f:\n",
    "    f.write('emb_file_names = [\\n')\n",
    "    for prop in sorted(props):\n",
    "        f.write(f'    \"{prop}\",\\n')\n",
    "    f.write(']')"
   ]
  },
  {
   "cell_type": "code",
   "execution_count": 17,
   "metadata": {},
   "outputs": [],
   "source": [
    "def kamal(n):\n",
    "\n",
    "    for i in range(n):\n",
    "        yield i"
   ]
  },
  {
   "cell_type": "code",
   "execution_count": 18,
   "metadata": {},
   "outputs": [],
   "source": [
    "gen = kamal(10)"
   ]
  },
  {
   "cell_type": "code",
   "execution_count": 29,
   "metadata": {},
   "outputs": [
    {
     "ename": "StopIteration",
     "evalue": "",
     "output_type": "error",
     "traceback": [
      "\u001b[0;31m---------------------------------------------------------------------------\u001b[0m",
      "\u001b[0;31mStopIteration\u001b[0m                             Traceback (most recent call last)",
      "Cell \u001b[0;32mIn[29], line 1\u001b[0m\n\u001b[0;32m----> 1\u001b[0m \u001b[38;5;28;43mnext\u001b[39;49m\u001b[43m(\u001b[49m\u001b[43mgen\u001b[49m\u001b[43m)\u001b[49m\n",
      "\u001b[0;31mStopIteration\u001b[0m: "
     ]
    }
   ],
   "source": [
    "next(gen)"
   ]
  },
  {
   "cell_type": "code",
   "execution_count": 1,
   "metadata": {},
   "outputs": [],
   "source": [
    "import chromadb\n",
    "import numpy as np"
   ]
  },
  {
   "cell_type": "code",
   "execution_count": 2,
   "metadata": {},
   "outputs": [],
   "source": [
    "client = chromadb.HttpClient(host = \"34.44.238.198\", port = 8000)"
   ]
  },
  {
   "cell_type": "code",
   "execution_count": 3,
   "metadata": {},
   "outputs": [
    {
     "data": {
      "text/plain": [
       "1746964145266340225"
      ]
     },
     "execution_count": 3,
     "metadata": {},
     "output_type": "execute_result"
    }
   ],
   "source": [
    "client.heartbeat()"
   ]
  },
  {
   "cell_type": "code",
   "execution_count": 8,
   "metadata": {},
   "outputs": [
    {
     "data": {
      "text/plain": [
       "[Collection(name=props)]"
      ]
     },
     "execution_count": 8,
     "metadata": {},
     "output_type": "execute_result"
    }
   ],
   "source": [
    "client.list_collections()"
   ]
  },
  {
   "cell_type": "code",
   "execution_count": 10,
   "metadata": {},
   "outputs": [
    {
     "name": "stdout",
     "output_type": "stream",
     "text": [
      "Total items in collection: 19000\n",
      "\n",
      "First 5 items:\n",
      "\n",
      "ID: 0\n",
      "Document: ! (Cláudia Pascoal album)\n",
      "! is the debut studio album by Cláudia Pascoal....\n",
      "\n",
      "ID: 1\n",
      "Document: ! (Cláudia Pascoal album)\n",
      "Cláudia Pascoal is a Portuguese singer....\n",
      "\n",
      "ID: 2\n",
      "Document: ! (Cláudia Pascoal album)\n",
      "The album was released in Portugal on 27 March 2020....\n",
      "\n",
      "ID: 3\n",
      "Document: ! (Cláudia Pascoal album)\n",
      "The album was released by Universal Music Portugal....\n",
      "\n",
      "ID: 4\n",
      "Document: ! (Cláudia Pascoal album)\n",
      "The album peaked at number six on the Portuguese Albums Chart....\n"
     ]
    }
   ],
   "source": [
    "# Get the props collection\n",
    "collection = client.get_collection(\"props\")\n",
    "\n",
    "# List all items in the collection\n",
    "results = collection.get()\n",
    "\n",
    "print(f\"Total items in collection: {len(results['ids'])}\")\n",
    "print(\"\\nFirst 5 items:\")\n",
    "for i in range(min(5, len(results['ids']))):\n",
    "    print(f\"\\nID: {results['ids'][i]}\")\n",
    "    print(f\"Document: {results['documents'][i][:200]}...\")  # Print first 200 chars\n"
   ]
  },
  {
   "cell_type": "code",
   "execution_count": null,
   "metadata": {},
   "outputs": [],
   "source": [
    "client.delete_collection(\"props\")"
   ]
  },
  {
   "cell_type": "code",
   "execution_count": 13,
   "metadata": {},
   "outputs": [
    {
     "name": "stdout",
     "output_type": "stream",
     "text": [
      "Added 100 dummy items to collection\n"
     ]
    }
   ],
   "source": [
    "# Create some dummy data\n",
    "collection = client.get_or_create_collection(\"kamal\")\n",
    "\n",
    "# Generate dummy embeddings and documents\n",
    "import numpy as np\n",
    "\n",
    "n_items = 100\n",
    "embedding_dim = 768  # Standard embedding dimension\n",
    "\n",
    "# Generate random embeddings, IDs and documents\n",
    "embeddings = [np.random.rand(embedding_dim).tolist() for _ in range(n_items)]\n",
    "ids = [str(i) for i in range(n_items)]\n",
    "documents = [f\"This is a dummy document number {i}\" for i in range(n_items)]\n",
    "\n",
    "# Add to collection in one batch\n",
    "collection.add(\n",
    "    embeddings=embeddings,\n",
    "    documents=documents,\n",
    "    ids=ids\n",
    ")\n",
    "\n",
    "print(f\"Added {n_items} dummy items to collection\")\n"
   ]
  },
  {
   "cell_type": "code",
   "execution_count": 14,
   "metadata": {},
   "outputs": [
    {
     "name": "stdout",
     "output_type": "stream",
     "text": [
      "Query results:\n",
      "1. Document: This is a dummy document number 51\n",
      "   Distance: 116.5082\n",
      "\n",
      "2. Document: This is a dummy document number 74\n",
      "   Distance: 119.2914\n",
      "\n",
      "3. Document: This is a dummy document number 28\n",
      "   Distance: 119.7850\n",
      "\n",
      "4. Document: This is a dummy document number 9\n",
      "   Distance: 120.6148\n",
      "\n",
      "5. Document: This is a dummy document number 3\n",
      "   Distance: 121.5881\n",
      "\n"
     ]
    }
   ],
   "source": [
    "# Query the collection with a random embedding as an example\n",
    "query_embedding = np.random.rand(768).tolist()  # Same dimension as our dummy data\n",
    "\n",
    "# Perform the query\n",
    "results = collection.query(\n",
    "    query_embeddings=query_embedding,\n",
    "    n_results=5  # Get top 5 matches\n",
    ")\n",
    "\n",
    "print(\"Query results:\")\n",
    "for i, (doc, distance) in enumerate(zip(results['documents'][0], results['distances'][0])):\n",
    "    print(f\"{i+1}. Document: {doc}\")\n",
    "    print(f\"   Distance: {distance:.4f}\\n\")\n"
   ]
  },
  {
   "cell_type": "code",
   "execution_count": 13,
   "metadata": {},
   "outputs": [],
   "source": [
    "client.delete_collection(\"props\")"
   ]
  },
  {
   "cell_type": "code",
   "execution_count": 12,
   "metadata": {},
   "outputs": [
    {
     "name": "stdout",
     "output_type": "stream",
     "text": [
      "[Collection(name=props-2), Collection(name=kamal), Collection(name=props)]\n"
     ]
    }
   ],
   "source": [
    "print(client.list_collections())"
   ]
  }
 ],
 "metadata": {
  "kernelspec": {
   "display_name": "chrom",
   "language": "python",
   "name": "python3"
  },
  "language_info": {
   "codemirror_mode": {
    "name": "ipython",
    "version": 3
   },
   "file_extension": ".py",
   "mimetype": "text/x-python",
   "name": "python",
   "nbconvert_exporter": "python",
   "pygments_lexer": "ipython3",
   "version": "3.10.12"
  }
 },
 "nbformat": 4,
 "nbformat_minor": 2
}
